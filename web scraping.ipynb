{
 "cells": [
  {
   "cell_type": "markdown",
   "id": "4bf6805b-aa24-4c00-ba75-068261cc6521",
   "metadata": {},
   "source": [
    "<h1>Web scraping Wikipedia Paris Olympics 2024 page</h1>"
   ]
  },
  {
   "cell_type": "code",
   "execution_count": null,
   "id": "436b29b9-b5e7-477e-b7ca-0232638c921f",
   "metadata": {},
   "outputs": [],
   "source": [
    "# import the libraires\n",
    "import re\n",
    "import requests\n",
    "from bs4 import BeautifulSoup\n",
    "import pandas as pd\n",
    "import matplotlib.pyplot as plt\n",
    "import numpy as np"
   ]
  },
  {
   "cell_type": "markdown",
   "id": "2dfdd3a2-5209-41f0-ac69-188698ba8414",
   "metadata": {},
   "source": [
    "<h3>Start the scraping by using Beautiful Soup</h3>"
   ]
  },
  {
   "cell_type": "code",
   "execution_count": null,
   "id": "84c605db-4713-4554-9020-2175085ce930",
   "metadata": {},
   "outputs": [],
   "source": [
    "# fetch the webpage\n",
    "url = \"https://en.wikipedia.org/wiki/2024_Summer_Olympics\"\n",
    "# get the response\n",
    "response = requests.get(url)\n",
    "print(response)"
   ]
  },
  {
   "cell_type": "markdown",
   "id": "7905b2c7-0192-41ec-9ad9-fe425701e3f4",
   "metadata": {},
   "source": [
    "<h3>Parse the content</h3>"
   ]
  },
  {
   "cell_type": "code",
   "execution_count": null,
   "id": "f089a253-040c-4ade-8e02-abe1ccebc0bc",
   "metadata": {
    "scrolled": true
   },
   "outputs": [],
   "source": [
    "# parse the html content\n",
    "soup = BeautifulSoup(response.text, \"lxml\")\n",
    "print(soup)"
   ]
  },
  {
   "cell_type": "code",
   "execution_count": null,
   "id": "1ee12860-f1f1-44c0-a97a-f0c89ded9b8c",
   "metadata": {
    "scrolled": true
   },
   "outputs": [],
   "source": [
    "# extract the tables\n",
    "table_countries_div = soup.find_all(\"div\", class_=\"div-col\")\n",
    "# store the countries inside a separate list since there are multiple divs with the class of \n",
    "# div-col I used conuntires[1] to find the right one\n",
    "participants = table_countries_div[1]\n",
    "print(participants)"
   ]
  },
  {
   "cell_type": "code",
   "execution_count": null,
   "id": "fd70c4cd-d4a6-46da-a29d-bd448830a561",
   "metadata": {
    "scrolled": true
   },
   "outputs": [],
   "source": [
    "# extract the li from the div\n",
    "countries = participants.find_all(\"li\")\n",
    "# print every sinlge country with it's athleats\n",
    "for country in countries:\n",
    "    print(country.text)"
   ]
  },
  {
   "cell_type": "markdown",
   "id": "bf298ad1-ddb4-41bb-a902-94019b94acc4",
   "metadata": {},
   "source": [
    "<h3>Transform the into a panda dataframe and clean the data</h3>"
   ]
  },
  {
   "cell_type": "code",
   "execution_count": null,
   "id": "e651b64e-c900-4a35-8608-0a2c5b72479d",
   "metadata": {
    "scrolled": true
   },
   "outputs": [],
   "source": [
    "# create a list for the countries and for the athleats\n",
    "country_list = []\n",
    "athleats_list = []\n",
    "\n",
    "# parse the scraped items into the respective lists\n",
    "for item in countries:\n",
    "    # Get the text content of the <li> element\n",
    "    text = item.text.strip()\n",
    "    print(f\"Raw text: {text}\")\n",
    "    \n",
    "    # eliminate the (host) text form the France name\n",
    "    if \" (host)\" in text:\n",
    "        text = text.replace(\" (host)\", \"\")\n",
    "        print(f\"THE NEW TEXT IS: {text}\")\n",
    "        \n",
    "    # split the country and the athleats\n",
    "    country_count, athleate_count = text.split(\"(\")\n",
    "    #remove the bracket form the athleate_count \n",
    "    athleate_count = athleate_count.replace(\")\", \"\")\n",
    "\n",
    "    # append to the respective lists\n",
    "    country_list.append(country_count)\n",
    "    athleats_list.append(athleate_count)\n",
    "\n",
    "# create the dataframe\n",
    "df = pd.DataFrame(\n",
    "    {\n",
    "        \"Country\": country_list,\n",
    "        \"Athlete\": athleats_list\n",
    "    }\n",
    ")"
   ]
  },
  {
   "cell_type": "code",
   "execution_count": null,
   "id": "8ecc843e-8559-4c43-b33c-335741a8697f",
   "metadata": {
    "scrolled": true
   },
   "outputs": [],
   "source": [
    "# Set Pandas options to display all rows and columns\n",
    "pd.set_option('display.max_rows', None)  # Display all rows\n",
    "# pd.set_option('display.max_columns', None)  # Display all columns\n",
    "# pd.set_option('display.width', None)  # Auto-detect the display width\n",
    "# pd.set_option('display.max_colwidth', None)  # Display full content of each cell\n",
    "df"
   ]
  },
  {
   "cell_type": "code",
   "execution_count": null,
   "id": "ea23548f-a55f-4bfe-a1a7-f32feb07c9af",
   "metadata": {},
   "outputs": [],
   "source": [
    "# Reset Pandas display options to default\n",
    "# pd.reset_option('display.max_rows')\n",
    "# pd.reset_option('display.max_columns')\n",
    "# pd.reset_option('display.width')\n",
    "# pd.reset_option('display.max_colwidth')"
   ]
  },
  {
   "cell_type": "code",
   "execution_count": null,
   "id": "4b232b86-6466-459a-90d3-81db5a5f86a4",
   "metadata": {},
   "outputs": [],
   "source": [
    "# Save to a CSV file\n",
    "df.to_csv(\"olympic_countries.csv\", index=False)"
   ]
  },
  {
   "cell_type": "code",
   "execution_count": null,
   "id": "25154bfd-07f1-40a9-aaf6-132a77773497",
   "metadata": {},
   "outputs": [],
   "source": [
    "# convert the Athlete column as integer\n",
    "df[\"Athlete\"] = df[\"Athlete\"].astype(int)"
   ]
  },
  {
   "cell_type": "code",
   "execution_count": null,
   "id": "94883ee4-6fde-4e5d-8813-e32b5c18b7c3",
   "metadata": {
    "scrolled": true
   },
   "outputs": [],
   "source": [
    "pd.set_option('display.max_rows', None)\n",
    "# sort the df by the athlete\n",
    "sorted_df = df.sort_values(by=\"Athlete\", ascending=False)\n",
    "sorted_df"
   ]
  },
  {
   "cell_type": "code",
   "execution_count": null,
   "id": "2803c33c-12a8-4457-aa9f-e92e5def6fca",
   "metadata": {
    "scrolled": true
   },
   "outputs": [],
   "source": [
    "# change the index of the sorted dataframe without creating a new dataframe\n",
    "sorted_df.reset_index(drop=True, inplace=True)\n",
    "sorted_df"
   ]
  },
  {
   "cell_type": "markdown",
   "id": "cdeeafbe-8fb1-479d-8aa0-3f9fd8db21d7",
   "metadata": {},
   "source": [
    "<h3>Plot the top 10 nations based on the number of athletes</h3>"
   ]
  },
  {
   "cell_type": "code",
   "execution_count": null,
   "id": "e5bf04b7-92c7-452e-9748-06cbbb3920ad",
   "metadata": {},
   "outputs": [],
   "source": [
    "# extract the top 10 nations\n",
    "top_10 = sorted_df.head(10)\n",
    "\n",
    "# Set the figure size\n",
    "plt.figure(figsize=(10, 6)) \n",
    "# create the bar plot (h is used to create horizontal lines)\n",
    "plt.barh(top_10[\"Country\"], top_10[\"Athlete\"], color=\"red\") \n",
    "\n",
    "# costumize the plot\n",
    "plt.xlabel(\"Number of athletes per nation\") # x-label\n",
    "plt.ylabel(\"Nation\") # y-label\n",
    "plt.title(\"Top 10 nations by the number of athletes\")\n",
    "\n",
    "# rotating the label of y axis (used if the labels are too long)\n",
    "plt.yticks(rotation=45)\n",
    "# Save the plot as a PNG file\n",
    "plt.savefig('athletes_plot.png', dpi=300, bbox_inches='tight')"
   ]
  },
  {
   "cell_type": "code",
   "execution_count": null,
   "id": "6e42c546-055c-4ab5-8611-2227480332db",
   "metadata": {},
   "outputs": [],
   "source": [
    "# Reset Pandas display options to default\n",
    "pd.reset_option('display.max_rows')\n",
    "pd.reset_option('display.max_columns')\n",
    "pd.reset_option('display.width')\n",
    "pd.reset_option('display.max_colwidth')"
   ]
  },
  {
   "cell_type": "markdown",
   "id": "11cb3bca-996e-448d-a8f3-90e089acdaa9",
   "metadata": {},
   "source": [
    "<h1>Extracting the medal table and plotting the results</h1>\n",
    "<h4>Find the table</h4>\n",
    "<p>Extract it using find() and extract the table rows</p>\n",
    "\n",
    "<h4>Handle the data</h4>\n",
    "<p>Find the useful information ad put into a panda data frame</p>"
   ]
  },
  {
   "cell_type": "code",
   "execution_count": null,
   "id": "9963ece8-128b-4a97-a859-ef3c656fce97",
   "metadata": {
    "scrolled": true
   },
   "outputs": [],
   "source": [
    "# extract the table\n",
    "medal_table = soup.find(\"table\", class_=\"wikitable sortable sticky-header-multi plainrowheaders jquery-tablesorter\")\n",
    "medal_table"
   ]
  },
  {
   "cell_type": "code",
   "execution_count": null,
   "id": "a5e3eaa0-ad9d-4f0c-94e2-7d4546099532",
   "metadata": {
    "scrolled": true
   },
   "outputs": [],
   "source": [
    "# extract the tr form the table\n",
    "rows = medal_table.find_all(\"tr\")\n",
    "rows"
   ]
  },
  {
   "cell_type": "code",
   "execution_count": null,
   "id": "695f20e2-e7ed-40cd-949c-a2b6b856740e",
   "metadata": {},
   "outputs": [],
   "source": [
    "for medal in rows:\n",
    "    print(medal.text)"
   ]
  },
  {
   "cell_type": "code",
   "execution_count": null,
   "id": "1db4feaf-7ece-41d5-a73b-3b6e2fb7bf2d",
   "metadata": {},
   "outputs": [],
   "source": [
    "# let's transform the table in a panda data frame\n",
    "\n",
    "# intialize list to store the data\n",
    "data = []\n",
    "\n",
    "# loop through the rows and store the data\n",
    "for row in rows:\n",
    "    # extract the all the cells including the headers\n",
    "    cells = row.find_all([\"th\", \"td\"])\n",
    "    # Extract the text from each cell and strip any extra whitespace\n",
    "    row_data = [cell.text.strip() for cell in cells]\n",
    "\n",
    "    # Append the row data to the list\n",
    "    data.append(row_data)\n",
    "\n",
    "# Create a Pandas DataFrame\n",
    "# Use the first row as the column headers\n",
    "headers = data[0]  # The first row contains the headers\n",
    "rows = data[1:]    # The remaining rows contain the data\n",
    "\n",
    "# Create the DataFrame\n",
    "df2 = pd.DataFrame(rows, columns=headers)\n",
    "\n",
    "# Display the DataFrame\n",
    "df2"
   ]
  },
  {
   "cell_type": "code",
   "execution_count": null,
   "id": "da9e39d0-0d25-4542-b876-3288a792906b",
   "metadata": {},
   "outputs": [],
   "source": [
    "df2.info()"
   ]
  },
  {
   "cell_type": "code",
   "execution_count": null,
   "id": "169503a2-4a09-43c1-be56-1693264bec0e",
   "metadata": {},
   "outputs": [],
   "source": [
    "# rename the column and set the rank column as the index\n",
    "df2.rename(columns={\"NOC\": \"Country\"}, inplace=True)\n",
    "df2.set_index(\"Rank\", inplace=True)\n",
    "df2"
   ]
  },
  {
   "cell_type": "code",
   "execution_count": null,
   "id": "739d3e03-a898-403c-ae19-b35d46c3f3fb",
   "metadata": {},
   "outputs": [],
   "source": [
    "# Save to a CSV file\n",
    "df2.to_csv(\"olympic_medals.csv\", index=False)"
   ]
  },
  {
   "cell_type": "code",
   "execution_count": null,
   "id": "29029975-0ea1-4fa2-b00e-f4b50ef23518",
   "metadata": {},
   "outputs": [],
   "source": [
    "df2.info()"
   ]
  },
  {
   "cell_type": "code",
   "execution_count": null,
   "id": "1f64d1c7-2f24-484b-abf4-ee316b2d0f04",
   "metadata": {},
   "outputs": [],
   "source": [
    "# copy() creates an indipendent dataframe [BEST PRACTICE WHEN USING SLICES OF DATAFRAME]\n",
    "top_10_rank = df2.head(10).copy()\n",
    "top_10_rank"
   ]
  },
  {
   "cell_type": "code",
   "execution_count": null,
   "id": "71accf84-a7f5-4a83-ba0a-ebb6582984b1",
   "metadata": {},
   "outputs": [],
   "source": [
    "# clean the unwanted characters\n",
    "top_10_rank[\"Country\"] = top_10_rank[\"Country\"].str.replace(r\"[‡*]\", \"\", regex=True)\n",
    "# Strip extra spaces\n",
    "top_10_rank['Country'] = top_10_rank['Country'].str.strip()\n",
    "top_10_rank"
   ]
  },
  {
   "cell_type": "code",
   "execution_count": null,
   "id": "dd4be116-03f7-4808-b890-ede65958bde9",
   "metadata": {},
   "outputs": [],
   "source": [
    "# Convert the columns in the appropriate data type\n",
    "top_10_rank[\"Gold\"] = top_10_rank[\"Gold\"].astype(int)\n",
    "top_10_rank[\"Silver\"] = top_10_rank[\"Silver\"].astype(int)\n",
    "top_10_rank[\"Bronze\"] = top_10_rank[\"Bronze\"].astype(int)\n",
    "top_10_rank[\"Total\"] = top_10_rank[\"Total\"].astype(int)\n",
    "top_10_rank.info()"
   ]
  },
  {
   "cell_type": "markdown",
   "id": "c3332195-0efb-4a63-a656-f46c9da939d0",
   "metadata": {},
   "source": [
    "<h3>Plotting the nations with the most medals</h3>"
   ]
  },
  {
   "cell_type": "code",
   "execution_count": null,
   "id": "ab399f38-0620-4233-9578-30933b096363",
   "metadata": {},
   "outputs": [],
   "source": [
    "# create the position for the x label\n",
    "x = np.arange(len(top_10_rank[\"Country\"]))\n",
    "# define the width of every bar\n",
    "width = 0.2\n",
    "\n",
    "fig, ax = plt.subplots(figsize=(12, 6))\n",
    "\n",
    "# create separate bars\n",
    "gold_bars = ax.bar(x - 1.5 * width, top_10_rank['Gold'], width, label='Gold', color='gold')\n",
    "silver_bars = ax.bar(x - 0.5 * width, top_10_rank['Silver'], width, label='Silver', color='silver')\n",
    "bronze_bars = ax.bar(x + 0.5 * width, top_10_rank['Bronze'], width, label='Bronze', color='peru')\n",
    "total_bars = ax.bar(x + 1.5 * width, top_10_rank['Total'], width, label='Total', color='skyblue')\n",
    "\n",
    "# Function to add labels on top of the bars\n",
    "def add_labels(bars): # add_labels() This function iterates through each bar in a bar group and adds a text annotation at the top of the bar.\n",
    "    for bar in bars:\n",
    "        height = bar.get_height() # Gets the height of the bar (i.e., the number of medals)\n",
    "        ax.text(bar.get_x() + bar.get_width() / 2, # Calculates the x-position for the text (center of the bar)\n",
    "                height, f'{height}', \n",
    "                ha='center', va='bottom', # Aligns the text horizontally centered and vertically above the bar\n",
    "                fontsize=9)\n",
    "# Add labels on top of each bar\n",
    "add_labels(gold_bars)\n",
    "add_labels(silver_bars)\n",
    "add_labels(bronze_bars)\n",
    "add_labels(total_bars)\n",
    "\n",
    "# Add labels, title, and legend\n",
    "ax.set_xlabel('Country')\n",
    "ax.set_ylabel('Medals')\n",
    "ax.set_title('Medal Count by Country (Gold, Silver, Bronze, Total)')\n",
    "ax.set_xticks(x)\n",
    "ax.set_xticklabels(top_10_rank[\"Country\"], rotation=45, ha='right')\n",
    "ax.legend()\n",
    "# Save the plot as a PNG file\n",
    "plt.savefig('medal_plot.png', dpi=300, bbox_inches='tight')"
   ]
  }
 ],
 "metadata": {
  "kernelspec": {
   "display_name": "Python 3 (ipykernel)",
   "language": "python",
   "name": "python3"
  },
  "language_info": {
   "codemirror_mode": {
    "name": "ipython",
    "version": 3
   },
   "file_extension": ".py",
   "mimetype": "text/x-python",
   "name": "python",
   "nbconvert_exporter": "python",
   "pygments_lexer": "ipython3",
   "version": "3.12.7"
  }
 },
 "nbformat": 4,
 "nbformat_minor": 5
}
